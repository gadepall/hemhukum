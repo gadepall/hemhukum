{
  "nbformat": 4,
  "nbformat_minor": 0,
  "metadata": {
    "colab": {
      "name": "Assignment1 Quad.ipynb",
      "provenance": [],
      "collapsed_sections": []
    },
    "kernelspec": {
      "name": "python3",
      "display_name": "Python 3"
    },
    "language_info": {
      "name": "python"
    }
  },
  "cells": [
    {
      "cell_type": "code",
      "metadata": {
        "colab": {
          "base_uri": "https://localhost:8080/"
        },
        "id": "hdFPltlDVAoo",
        "outputId": "8b158c25-9fe2-41e2-c28f-0983666307e7"
      },
      "source": [
        "import numpy as np\n",
        "def area_quad(P,Q,R,S):\n",
        "  QP=np.array([Q-P])\n",
        "  QR=np.array([Q-R])\n",
        "  area_tri1 = abs(0.5*(np.cross(QP,QR)))\n",
        "  print(area_tri1)\n",
        "  SP=np.array([S-P])\n",
        "  SR=np.array([S-R])\n",
        "  area_tri2 = abs(0.5*(np.cross(SP,SR)))\n",
        "  print(area_tri2)\n",
        "  area_quad_val = area_tri1 + area_tri2\n",
        "  return area_quad_val\n",
        "\n",
        "P=np.array([2,1])\n",
        "Q=np.array([3,5])\n",
        "R=np.array([-3,4])\n",
        "S=np.array([-2,-2])\n",
        "\n",
        "print(P,Q,R,S)\n",
        "print(\"Area of Quadrilateral for given coordinates is:\",area_quad(P,Q,R,S))"
      ],
      "execution_count": 2,
      "outputs": [
        {
          "output_type": "stream",
          "name": "stdout",
          "text": [
            "[2 1] [3 5] [-3  4] [-2 -2]\n",
            "[11.5]\n",
            "[13.5]\n",
            "Area of Quadrilateral for given coordinates is: [25.]\n"
          ]
        }
      ]
    }
  ]
}